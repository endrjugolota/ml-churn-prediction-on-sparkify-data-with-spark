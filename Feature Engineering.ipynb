{
 "cells": [
  {
   "cell_type": "markdown",
   "id": "ee148573",
   "metadata": {},
   "source": [
    "# Feature engineering\n",
    "\n",
    "Once I explored dataset I need to prepare data to be used with prediction model. To do this I need to create features and label columns."
   ]
  },
  {
   "cell_type": "code",
   "execution_count": 14,
   "id": "84167744",
   "metadata": {},
   "outputs": [],
   "source": [
    "# import libraries\n",
    "from pyspark.sql import SparkSession\n",
    "import pyspark.sql.functions as F\n",
    "import datetime\n",
    "import pandas as pd\n",
    "from pyspark.sql.window import Window"
   ]
  },
  {
   "cell_type": "code",
   "execution_count": 2,
   "id": "a7db93e8",
   "metadata": {},
   "outputs": [],
   "source": [
    "# create a Spark session\n",
    "spark = SparkSession \\\n",
    "    .builder \\\n",
    "    .appName(\"Sparkify_Project\") \\\n",
    "    .getOrCreate()"
   ]
  },
  {
   "cell_type": "code",
   "execution_count": 6,
   "id": "b8ae2e8c",
   "metadata": {},
   "outputs": [],
   "source": [
    "# loading cleaned dataset\n",
    "path = \"mini_sparkify_event_data_cleaned.json\"\n",
    "data = spark.read.json(path)"
   ]
  },
  {
   "cell_type": "markdown",
   "id": "e2160563",
   "metadata": {},
   "source": [
    "Let's start with label column. We need to detect all users that have cancelled their subscribtions. We can define churn using the Cancellation Confirmation events:"
   ]
  },
  {
   "cell_type": "code",
   "execution_count": 8,
   "id": "57fa14d9",
   "metadata": {},
   "outputs": [],
   "source": [
    "# Let's first separate users with Cancellation Confirmation events:\n",
    "\n",
    "users_churn = (\n",
    "    data.\n",
    "    filter(data.page == \"Cancellation Confirmation\").\n",
    "    select(\"userId\").\n",
    "    distinct().\n",
    "    withColumn(\"cancelled\", F.lit(\"1\"))\n",
    ")"
   ]
  },
  {
   "cell_type": "code",
   "execution_count": 11,
   "id": "55477318",
   "metadata": {},
   "outputs": [
    {
     "data": {
      "text/plain": [
       "52"
      ]
     },
     "execution_count": 11,
     "metadata": {},
     "output_type": "execute_result"
    }
   ],
   "source": [
    "users_churn.count()"
   ]
  },
  {
   "cell_type": "code",
   "execution_count": 10,
   "id": "bd9ffb37",
   "metadata": {},
   "outputs": [],
   "source": [
    "# Now we can use users_churn df to add label column:\n",
    "\n",
    "data_labels = (\n",
    "    data.\n",
    "    join(users_churn, [\"userId\"], \"left\").\n",
    "    withColumn(\"cancelled\", F.when(F.col(\"cancelled\") == \"1\", \"1\").otherwise(\"0\"))\n",
    ")"
   ]
  },
  {
   "cell_type": "markdown",
   "id": "3d18746c",
   "metadata": {},
   "source": [
    "Now let's build out the features to train model on. By analyzing different interactions users can make I came up with fallowing features:\n",
    "\n",
    "- total time on a paid version \n",
    "- time on a paid or free version\n",
    "- number of songs played\n",
    "- number of Thumbs Down \n",
    "- number of Roll Advert\n",
    "- number of Add to Playlist\n",
    "- number of Add Friend\n",
    "- number of Thumbs Up\n",
    "- number of Errors\n",
    "\n",
    "Let's implement this features:"
   ]
  },
  {
   "cell_type": "code",
   "execution_count": 16,
   "id": "fbdcd955",
   "metadata": {},
   "outputs": [],
   "source": [
    "# Total time on paid version / whole\n",
    "\n",
    "user_window_desc = Window \\\n",
    "    .partitionBy('userID') \\\n",
    "    .orderBy(F.col('ts').desc()) \n",
    "\n",
    "user_window_asc = Window \\\n",
    "    .partitionBy('userID') \\\n",
    "    .orderBy(F.col('ts'))\n",
    "\n",
    "time_on_paid_version = (\n",
    "    data_labels.\n",
    "    filter(F.col(\"level\") == \"paid\").\n",
    "    withColumn(\"beggining_ts\", F.first(\"ts\").over(user_window_asc)).\n",
    "    withColumn(\"end_ts\", F.first(\"ts\").over(user_window_desc)).\n",
    "    withColumn(\"time_on_paid_version\", F.unix_timestamp(\"end_ts\") - F.unix_timestamp(\"beggining_ts\")).\n",
    "    select(\"userId\", \"time_on_paid_version\").\n",
    "    distinct().\n",
    "    withColumn(\"time_on_paid_version\", F.when(F.col(\"time_on_paid_version\").isNull(), 0).otherwise(F.col(\"time_on_paid_version\")))\n",
    ")\n",
    "\n",
    "time_whole = (\n",
    "    data_labels.\n",
    "    withColumn(\"beggining_ts\", F.first(\"ts\").over(user_window_asc)).\n",
    "    withColumn(\"end_ts\", F.first(\"ts\").over(user_window_desc)).\n",
    "    withColumn(\"time_whole\", F.unix_timestamp(\"end_ts\") - F.unix_timestamp(\"beggining_ts\")).\n",
    "    select(\"userId\", \"time_whole\").\n",
    "    distinct()\n",
    ")\n"
   ]
  },
  {
   "cell_type": "code",
   "execution_count": 17,
   "id": "9d663907",
   "metadata": {},
   "outputs": [],
   "source": [
    "# Other features:\n",
    "\n",
    "data_features = (\n",
    "    data_labels.\n",
    "    groupBy(\"userId\").\n",
    "    agg(\n",
    "        F.count(F.when(F.col(\"page\") == \"NextSong\", True)).alias(\"number_of_songs_played\"),\n",
    "        F.count(F.when(F.col(\"page\") == \"Thumbs Down\", True)).alias(\"number_of_thumbs_down\"),\n",
    "        F.count(F.when(F.col(\"page\") == \"Thumbs Up\", True)).alias(\"number_of_thumbs_up\"),\n",
    "        F.count(F.when(F.col(\"page\") == \"Roll Advert\", True)).alias(\"number_of_roll_advert\"),\n",
    "        F.count(F.when(F.col(\"page\") == \"Add to Playlist\", True)).alias(\"number_of_add_to_playlist\"),\n",
    "        F.count(F.when(F.col(\"page\") == \"Add Friend\", True)).alias(\"number_of_add_friend\"),\n",
    "        F.count(F.when(F.col(\"page\") == \"Error\", True)).alias(\"number_of_errors\"),\n",
    "        F.first(\"cancelled\").alias(\"label\")\n",
    "    ).\n",
    "    join(time_on_paid_version, [\"userId\"], \"left\").\n",
    "    withColumn(\"time_on_paid_version\", F.when(F.col(\"time_on_paid_version\").isNull(), 0).otherwise(F.col(\"time_on_paid_version\"))).\n",
    "    join(time_whole, [\"userId\"], \"left\")\n",
    ")"
   ]
  },
  {
   "cell_type": "code",
   "execution_count": 18,
   "id": "691078bc",
   "metadata": {},
   "outputs": [
    {
     "name": "stdout",
     "output_type": "stream",
     "text": [
      "+------+----------------------+---------------------+-------------------+---------------------+-------------------------+--------------------+----------------+-----+--------------------+----------+\n",
      "|userId|number_of_songs_played|number_of_thumbs_down|number_of_thumbs_up|number_of_roll_advert|number_of_add_to_playlist|number_of_add_friend|number_of_errors|label|time_on_paid_version|time_whole|\n",
      "+------+----------------------+---------------------+-------------------+---------------------+-------------------------+--------------------+----------------+-----+--------------------+----------+\n",
      "|    10|                   673|                    4|                 37|                    1|                        9|                  12|               0|    0|             3670168|   3670168|\n",
      "|   100|                  2682|                   27|                148|                   25|                       61|                  49|               3|    0|             5098287|   5098287|\n",
      "|100001|                   133|                    2|                  8|                   14|                        3|                   2|               1|    1|                   0|    121701|\n",
      "|100002|                   195|                    0|                  5|                    3|                        5|                   1|               0|    0|             4763631|   4763631|\n",
      "|100003|                    51|                    0|                  3|                    9|                        2|                   0|               0|    1|                   0|    174361|\n",
      "|100004|                   942|                   11|                 35|                   86|                       23|                  19|               2|    0|             3885408|   4927830|\n",
      "|100005|                   154|                    3|                  7|                   18|                        3|                   3|               0|    1|                   0|   1564810|\n",
      "|100006|                    26|                    2|                  2|                    3|                        1|                   4|               0|    1|                   0|      5606|\n",
      "|100007|                   423|                    6|                 19|                    5|                        9|                  17|               0|    1|             5030106|   5030106|\n",
      "|100008|                   772|                    6|                 37|                   20|                       30|                  17|               0|    0|             3650837|   4237155|\n",
      "+------+----------------------+---------------------+-------------------+---------------------+-------------------------+--------------------+----------------+-----+--------------------+----------+\n",
      "only showing top 10 rows\n",
      "\n"
     ]
    }
   ],
   "source": [
    "data_features.orderBy(\"userId\").show(10)"
   ]
  },
  {
   "cell_type": "code",
   "execution_count": 19,
   "id": "c23b9fee",
   "metadata": {},
   "outputs": [
    {
     "data": {
      "text/plain": [
       "225"
      ]
     },
     "execution_count": 19,
     "metadata": {},
     "output_type": "execute_result"
    }
   ],
   "source": [
    "data_features.count()"
   ]
  },
  {
   "cell_type": "code",
   "execution_count": null,
   "id": "fb525554",
   "metadata": {},
   "outputs": [],
   "source": [
    "# It looks good. Let's save dataset with features:"
   ]
  },
  {
   "cell_type": "code",
   "execution_count": 20,
   "id": "291be5aa",
   "metadata": {},
   "outputs": [],
   "source": [
    "path_save = \"mini_sparkify_data_features.json\"\n",
    "data_features.coalesce(1).write.mode(\"overwrite\").format('json').save(path_save)"
   ]
  }
 ],
 "metadata": {
  "kernelspec": {
   "display_name": "Python 3 (ipykernel)",
   "language": "python",
   "name": "python3"
  },
  "language_info": {
   "codemirror_mode": {
    "name": "ipython",
    "version": 3
   },
   "file_extension": ".py",
   "mimetype": "text/x-python",
   "name": "python",
   "nbconvert_exporter": "python",
   "pygments_lexer": "ipython3",
   "version": "3.9.7"
  }
 },
 "nbformat": 4,
 "nbformat_minor": 5
}
