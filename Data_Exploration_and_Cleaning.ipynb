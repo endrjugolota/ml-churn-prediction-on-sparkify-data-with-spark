{
 "cells": [
  {
   "cell_type": "markdown",
   "id": "c03e5ba6",
   "metadata": {},
   "source": [
    "# Data Exploration\n",
    "\n",
    "Dataset used in this project is small \"Sparkify\" dataset containing different users interactions with the music streaming service (like Spotify or Pandora). Interactions could be playing the song, loginig out, giving the thumbs up etc. \n",
    "\n",
    "In this project due to technical limitations I'm going to work on a tiny subset (128MB) of the full dataset available (12GB).\n",
    "\n",
    "My objective is to create a machine learning model for churn prediction, but before I do that I need to get familiar with the dataset."
   ]
  },
  {
   "cell_type": "code",
   "execution_count": 1,
   "id": "3f02f05e",
   "metadata": {},
   "outputs": [],
   "source": [
    "# import libraries\n",
    "from pyspark.sql import SparkSession\n",
    "import pyspark.sql.functions as F\n",
    "import datetime\n",
    "import pandas as pd"
   ]
  },
  {
   "cell_type": "code",
   "execution_count": 2,
   "id": "5601ec5b",
   "metadata": {},
   "outputs": [],
   "source": [
    "# create a Spark session\n",
    "spark = SparkSession \\\n",
    "    .builder \\\n",
    "    .appName(\"Sparkify_Project\") \\\n",
    "    .getOrCreate()"
   ]
  },
  {
   "cell_type": "code",
   "execution_count": 3,
   "id": "93dc9ee7",
   "metadata": {},
   "outputs": [],
   "source": [
    "# loading dataset\n",
    "path = \"mini_sparkify_event_data.json\"\n",
    "data = spark.read.json(path)"
   ]
  },
  {
   "cell_type": "code",
   "execution_count": 4,
   "id": "d9dd7c3b",
   "metadata": {},
   "outputs": [
    {
     "name": "stdout",
     "output_type": "stream",
     "text": [
      "root\n",
      " |-- artist: string (nullable = true)\n",
      " |-- auth: string (nullable = true)\n",
      " |-- firstName: string (nullable = true)\n",
      " |-- gender: string (nullable = true)\n",
      " |-- itemInSession: long (nullable = true)\n",
      " |-- lastName: string (nullable = true)\n",
      " |-- length: double (nullable = true)\n",
      " |-- level: string (nullable = true)\n",
      " |-- location: string (nullable = true)\n",
      " |-- method: string (nullable = true)\n",
      " |-- page: string (nullable = true)\n",
      " |-- registration: long (nullable = true)\n",
      " |-- sessionId: long (nullable = true)\n",
      " |-- song: string (nullable = true)\n",
      " |-- status: long (nullable = true)\n",
      " |-- ts: long (nullable = true)\n",
      " |-- userAgent: string (nullable = true)\n",
      " |-- userId: string (nullable = true)\n",
      "\n"
     ]
    }
   ],
   "source": [
    "# Let's look at the schema first\n",
    "data.printSchema()"
   ]
  },
  {
   "cell_type": "code",
   "execution_count": 5,
   "id": "66c94607",
   "metadata": {},
   "outputs": [
    {
     "name": "stdout",
     "output_type": "stream",
     "text": [
      "+----------------+---------+---------+------+-------------+--------+---------+-----+------------------------------+------+--------+-------------+---------+-----------------------------+------+-------------+---------------------------------------------------------------------------------------------------------------+------+\n",
      "|artist          |auth     |firstName|gender|itemInSession|lastName|length   |level|location                      |method|page    |registration |sessionId|song                         |status|ts           |userAgent                                                                                                      |userId|\n",
      "+----------------+---------+---------+------+-------------+--------+---------+-----+------------------------------+------+--------+-------------+---------+-----------------------------+------+-------------+---------------------------------------------------------------------------------------------------------------+------+\n",
      "|Martha Tilston  |Logged In|Colin    |M     |50           |Freeman |277.89016|paid |Bakersfield, CA               |PUT   |NextSong|1538173362000|29       |Rockpools                    |200   |1538352117000|Mozilla/5.0 (Windows NT 6.1; WOW64; rv:31.0) Gecko/20100101 Firefox/31.0                                       |30    |\n",
      "|Five Iron Frenzy|Logged In|Micah    |M     |79           |Long    |236.09424|free |Boston-Cambridge-Newton, MA-NH|PUT   |NextSong|1538331630000|8        |Canada                       |200   |1538352180000|\"Mozilla/5.0 (Windows NT 6.1; WOW64) AppleWebKit/537.36 (KHTML, like Gecko) Chrome/37.0.2062.103 Safari/537.36\"|9     |\n",
      "|Adam Lambert    |Logged In|Colin    |M     |51           |Freeman |282.8273 |paid |Bakersfield, CA               |PUT   |NextSong|1538173362000|29       |Time For Miracles            |200   |1538352394000|Mozilla/5.0 (Windows NT 6.1; WOW64; rv:31.0) Gecko/20100101 Firefox/31.0                                       |30    |\n",
      "|Enigma          |Logged In|Micah    |M     |80           |Long    |262.71302|free |Boston-Cambridge-Newton, MA-NH|PUT   |NextSong|1538331630000|8        |Knocking On Forbidden Doors  |200   |1538352416000|\"Mozilla/5.0 (Windows NT 6.1; WOW64) AppleWebKit/537.36 (KHTML, like Gecko) Chrome/37.0.2062.103 Safari/537.36\"|9     |\n",
      "|Daft Punk       |Logged In|Colin    |M     |52           |Freeman |223.60771|paid |Bakersfield, CA               |PUT   |NextSong|1538173362000|29       |Harder Better Faster Stronger|200   |1538352676000|Mozilla/5.0 (Windows NT 6.1; WOW64; rv:31.0) Gecko/20100101 Firefox/31.0                                       |30    |\n",
      "+----------------+---------+---------+------+-------------+--------+---------+-----+------------------------------+------+--------+-------------+---------+-----------------------------+------+-------------+---------------------------------------------------------------------------------------------------------------+------+\n",
      "only showing top 5 rows\n",
      "\n"
     ]
    }
   ],
   "source": [
    "# Let's look at some example records\n",
    "data.show(5, False)"
   ]
  },
  {
   "cell_type": "code",
   "execution_count": 6,
   "id": "165bd8a5",
   "metadata": {},
   "outputs": [
    {
     "data": {
      "text/plain": [
       "286500"
      ]
     },
     "execution_count": 6,
     "metadata": {},
     "output_type": "execute_result"
    }
   ],
   "source": [
    "# What is number of records in this dataset:\n",
    "data.count()"
   ]
  },
  {
   "cell_type": "code",
   "execution_count": 7,
   "id": "192e13a2",
   "metadata": {},
   "outputs": [
    {
     "data": {
      "text/plain": [
       "226"
      ]
     },
     "execution_count": 7,
     "metadata": {},
     "output_type": "execute_result"
    }
   ],
   "source": [
    "# What is the number of unique users:\n",
    "data.select(\"userId\").dropDuplicates().count()"
   ]
  },
  {
   "cell_type": "code",
   "execution_count": 8,
   "id": "38d67503",
   "metadata": {},
   "outputs": [
    {
     "name": "stdout",
     "output_type": "stream",
     "text": [
      "+--------------------+------+\n",
      "|                page| count|\n",
      "+--------------------+------+\n",
      "|            NextSong|228108|\n",
      "|                Home| 14457|\n",
      "|           Thumbs Up| 12551|\n",
      "|     Add to Playlist|  6526|\n",
      "|          Add Friend|  4277|\n",
      "|         Roll Advert|  3933|\n",
      "|               Login|  3241|\n",
      "|              Logout|  3226|\n",
      "|         Thumbs Down|  2546|\n",
      "|           Downgrade|  2055|\n",
      "|                Help|  1726|\n",
      "|            Settings|  1514|\n",
      "|               About|   924|\n",
      "|             Upgrade|   499|\n",
      "|       Save Settings|   310|\n",
      "|               Error|   258|\n",
      "|      Submit Upgrade|   159|\n",
      "|    Submit Downgrade|    63|\n",
      "|              Cancel|    52|\n",
      "|Cancellation Conf...|    52|\n",
      "+--------------------+------+\n",
      "only showing top 20 rows\n",
      "\n"
     ]
    }
   ],
   "source": [
    "# Let's see what interactions are included in the dataset, this information is kept in \"page\" column\n",
    "data.groupBy(\"page\").count().orderBy(F.desc(\"count\")).show()"
   ]
  },
  {
   "cell_type": "code",
   "execution_count": 9,
   "id": "2ba9acf8",
   "metadata": {},
   "outputs": [
    {
     "name": "stdout",
     "output_type": "stream",
     "text": [
      "+-------+------------------+-----------------+\n",
      "|summary|            userId|        sessionId|\n",
      "+-------+------------------+-----------------+\n",
      "|  count|            286500|           286500|\n",
      "|   mean| 59682.02278593872|1041.526554973822|\n",
      "| stddev|109091.94999910535|726.7762634630799|\n",
      "|    min|                  |                1|\n",
      "|    max|                99|             2474|\n",
      "+-------+------------------+-----------------+\n",
      "\n"
     ]
    }
   ],
   "source": [
    "# Let's take closer look into userId and sessionId columns:\n",
    "data.describe(\"userId\", \"sessionId\").show()"
   ]
  },
  {
   "cell_type": "code",
   "execution_count": 10,
   "id": "05d0780f",
   "metadata": {},
   "outputs": [],
   "source": [
    "# It seems there are some ampty values for userId"
   ]
  },
  {
   "cell_type": "code",
   "execution_count": 11,
   "id": "c9ba24e1",
   "metadata": {},
   "outputs": [
    {
     "name": "stdout",
     "output_type": "stream",
     "text": [
      "+------+-------------+\n",
      "|userId|ts           |\n",
      "+------+-------------+\n",
      "|      |1538355745000|\n",
      "|      |1538355807000|\n",
      "|      |1538355841000|\n",
      "|      |1538355842000|\n",
      "|      |1538356678000|\n",
      "|      |1538356679000|\n",
      "|      |1538358102000|\n",
      "|      |1538360117000|\n",
      "|      |1538361527000|\n",
      "|      |1538361528000|\n",
      "|      |1538362007000|\n",
      "|      |1538362095000|\n",
      "|      |1538362096000|\n",
      "|      |1538363488000|\n",
      "|      |1538363494000|\n",
      "|      |1538363503000|\n",
      "|      |1538364254000|\n",
      "|      |1538364255000|\n",
      "|      |1538364750000|\n",
      "|      |1538370681000|\n",
      "+------+-------------+\n",
      "only showing top 20 rows\n",
      "\n"
     ]
    }
   ],
   "source": [
    "# Let's also take a look on ts column:\n",
    "data.select(\"userId\", \"ts\").orderBy(\"userId\", \"ts\").show(20, False)"
   ]
  },
  {
   "cell_type": "markdown",
   "id": "126edc95",
   "metadata": {},
   "source": [
    "# Data Cleaning\n",
    "\n",
    "In this step I'm gonna get rid of empty values for userId and sessionId and change format of \"ts\" column"
   ]
  },
  {
   "cell_type": "code",
   "execution_count": 12,
   "id": "8cd91198",
   "metadata": {},
   "outputs": [],
   "source": [
    "data_valid = (\n",
    "    data.\n",
    "    dropna(how = \"any\", subset = [\"userId\", \"sessionId\"]).\n",
    "    filter(data[\"userId\"] != \"\").\n",
    "    withColumn(\"ts\", F.from_unixtime(data.ts / 1000.0, \"yyyy-MM-dd HH:mm:ss\"))\n",
    ")"
   ]
  },
  {
   "cell_type": "code",
   "execution_count": 13,
   "id": "ae33048e",
   "metadata": {},
   "outputs": [
    {
     "name": "stdout",
     "output_type": "stream",
     "text": [
      "+-------+------------------+------------------+\n",
      "|summary|            userId|         sessionId|\n",
      "+-------+------------------+------------------+\n",
      "|  count|            278154|            278154|\n",
      "|   mean| 59682.02278593872|1042.5616241362698|\n",
      "| stddev|109091.94999910535| 726.5010362219824|\n",
      "|    min|                10|                 1|\n",
      "|    max|                99|              2474|\n",
      "+-------+------------------+------------------+\n",
      "\n"
     ]
    }
   ],
   "source": [
    "# Let's check for empty values again:\n",
    "data_valid.describe(\"userId\", \"sessionId\").show()"
   ]
  },
  {
   "cell_type": "code",
   "execution_count": 14,
   "id": "e594748f",
   "metadata": {},
   "outputs": [
    {
     "data": {
      "text/plain": [
       "225"
      ]
     },
     "execution_count": 14,
     "metadata": {},
     "output_type": "execute_result"
    }
   ],
   "source": [
    "# Let's check number of users again\n",
    "data_valid.select(\"userId\").dropDuplicates().count()"
   ]
  },
  {
   "cell_type": "code",
   "execution_count": 15,
   "id": "a3f6c17a",
   "metadata": {},
   "outputs": [],
   "source": [
    "# We have one user less"
   ]
  },
  {
   "cell_type": "code",
   "execution_count": 16,
   "id": "ac850980",
   "metadata": {},
   "outputs": [
    {
     "name": "stdout",
     "output_type": "stream",
     "text": [
      "+-------------------+\n",
      "|ts                 |\n",
      "+-------------------+\n",
      "|2018-10-01 02:01:57|\n",
      "|2018-10-01 02:03:00|\n",
      "|2018-10-01 02:06:34|\n",
      "|2018-10-01 02:06:56|\n",
      "|2018-10-01 02:11:16|\n",
      "|2018-10-01 02:11:18|\n",
      "|2018-10-01 02:14:46|\n",
      "|2018-10-01 02:14:59|\n",
      "|2018-10-01 02:15:05|\n",
      "|2018-10-01 02:18:04|\n",
      "|2018-10-01 02:19:06|\n",
      "|2018-10-01 02:19:10|\n",
      "|2018-10-01 02:20:18|\n",
      "|2018-10-01 02:22:55|\n",
      "|2018-10-01 02:22:56|\n",
      "|2018-10-01 02:24:01|\n",
      "|2018-10-01 02:26:16|\n",
      "|2018-10-01 02:27:48|\n",
      "|2018-10-01 02:28:07|\n",
      "|2018-10-01 02:29:04|\n",
      "+-------------------+\n",
      "only showing top 20 rows\n",
      "\n"
     ]
    }
   ],
   "source": [
    "#Let's look at timestamp column:\n",
    "data_valid.select(\"ts\").show(20, False)"
   ]
  },
  {
   "cell_type": "code",
   "execution_count": 17,
   "id": "0abae63f",
   "metadata": {},
   "outputs": [],
   "source": [
    "# It looks much better"
   ]
  },
  {
   "cell_type": "code",
   "execution_count": 20,
   "id": "9fe8022b",
   "metadata": {},
   "outputs": [],
   "source": [
    "# Let's save our cleaned dataset\n",
    "path_save = \"mini_sparkify_event_data_cleaned.json\"\n",
    "data_valid.coalesce(1).write.mode(\"overwrite\").format('json').save(path_save)"
   ]
  },
  {
   "cell_type": "code",
   "execution_count": null,
   "id": "b907fa88",
   "metadata": {},
   "outputs": [],
   "source": []
  }
 ],
 "metadata": {
  "kernelspec": {
   "display_name": "Python 3 (ipykernel)",
   "language": "python",
   "name": "python3"
  },
  "language_info": {
   "codemirror_mode": {
    "name": "ipython",
    "version": 3
   },
   "file_extension": ".py",
   "mimetype": "text/x-python",
   "name": "python",
   "nbconvert_exporter": "python",
   "pygments_lexer": "ipython3",
   "version": "3.9.7"
  }
 },
 "nbformat": 4,
 "nbformat_minor": 5
}
